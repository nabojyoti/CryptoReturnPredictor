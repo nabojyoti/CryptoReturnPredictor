{
 "cells": [
  {
   "cell_type": "code",
   "execution_count": 1,
   "metadata": {},
   "outputs": [],
   "source": [
    "import pandas as pd\n",
    "import os\n",
    "from modules.backtest import single_crypto_backtest, backtestCalculator"
   ]
  },
  {
   "cell_type": "code",
   "execution_count": 2,
   "metadata": {},
   "outputs": [],
   "source": [
    "train_start, train_end = '2021-01-02 00:00:00', '2021-09-30 00:00:00',\n",
    "test_start, test_end = '2021-10-01 00:00:00', '2021-12-29 00:00:00'\n",
    "\n",
    "file_names = ['predictions_15mins', 'predictions_30mins', 'predictions_1hour','predictions_1day', 'predictions_30days']"
   ]
  },
  {
   "cell_type": "code",
   "execution_count": 3,
   "metadata": {},
   "outputs": [
    {
     "name": "stdout",
     "output_type": "stream",
     "text": [
      "15mins\n",
      "30mins\n",
      "1hour\n",
      "1day\n",
      "30days\n"
     ]
    }
   ],
   "source": [
    "for file_name in file_names:\n",
    "    cash = 1000000 # initial cash\n",
    "\n",
    "    K = 0 # keep track of timestamps\n",
    "\n",
    "    backtest_result_folder = 'backtest_result'\n",
    "\n",
    "    port_values, dates_portfolio = [], [] # store portfolio values\n",
    "\n",
    "    interval = file_name.split('_')[1]\n",
    "    df = pd.read_csv(f'model_predictions/{file_name}.csv')\n",
    "    # df['signal'] =  df['prediction'].apply(lambda x: 1 if x > 0 else 0)\n",
    "    df = df[['datetime','close', 'prediction']]\n",
    "    df['datetime'] = pd.to_datetime(df['datetime'])  # Convert 'datetime' column to datetime format\n",
    "    df.set_index('datetime', inplace=True)  # Set 'datetime' as the index\n",
    "\n",
    "    test_df = df.loc[test_start:test_end]\n",
    "\n",
    "    print(interval)\n",
    "    if interval == '15mins':\n",
    "        test_df = test_df.resample('15T').last()\n",
    "    elif interval == '30mins':\n",
    "        test_df = test_df.resample('30T').last()\n",
    "    elif interval == '1hour':\n",
    "        test_df = test_df.resample('1H').last()\n",
    "    elif interval == '1day':\n",
    "        test_df = test_df.resample('1D').last()\n",
    "    elif interval == '30days':\n",
    "        test_df = test_df.resample('30D').last()\n",
    "    else:\n",
    "        print(\"Invalid interval. Choose from '15T', '30T', '1H', '1D', '30D'.\")\n",
    "\n",
    "    test_df.dropna(inplace=True)\n",
    "\n",
    "    # iterator to keep track of timestamps\n",
    "\n",
    "    dates = test_df.index.to_list() # available timesteps of backtest\n",
    "\n",
    "    # Run backtest\n",
    "\n",
    "    for j in range(len(dates) - 1):\n",
    "        try:\n",
    "\n",
    "            t, t_1 = dates[K], dates[K+1] # pick current time and the t+1 timestep\n",
    "\n",
    "            testDf = test_df.loc[t:t_1, ['close']] # take close of t and t+1 timesteps\n",
    "\n",
    "            testDf.rename(columns={\"close\":\"ETHUSDT\"}, inplace=True)\n",
    "\n",
    "            # receive the value invested at (t)th time, value at (t+1)th time, balance left and shares held\n",
    "\n",
    "            cash_invested, current_value, balance, shares = backtestCalculator(cash=cash, backtest_df=testDf, weights={\"ETHUSDT\": 1 if test_df.loc[t, \"prediction\"] > 0 else 0})\n",
    "\n",
    "            # portfolio value\n",
    "\n",
    "            portfolio = balance + current_value\n",
    "\n",
    "            cash = portfolio\n",
    "\n",
    "            port_values.append(cash)\n",
    "\n",
    "            dates_portfolio.append(t_1)\n",
    "\n",
    "            K = K + 1 # goes to next trading time\n",
    "        except Exception as e:\n",
    "            #print(interval)\n",
    "            continue\n",
    "\n",
    "    portfolio_df = pd.DataFrame({'Timestamp': dates_portfolio, 'Portfolio Value': port_values})\n",
    "    # Check if the folder exists, and create it if it doesn't\n",
    "    if not os.path.exists(backtest_result_folder):\n",
    "        os.makedirs(backtest_result_folder)\n",
    "\n",
    "    backtest_file_path = os.path.join(backtest_result_folder, f'backtest_{interval}.csv')\n",
    "    portfolio_df.to_csv(backtest_file_path, index=False)\n",
    "    "
   ]
  },
  {
   "cell_type": "code",
   "execution_count": null,
   "metadata": {},
   "outputs": [],
   "source": []
  }
 ],
 "metadata": {
  "kernelspec": {
   "display_name": "Python 3",
   "language": "python",
   "name": "python3"
  },
  "language_info": {
   "codemirror_mode": {
    "name": "ipython",
    "version": 3
   },
   "file_extension": ".py",
   "mimetype": "text/x-python",
   "name": "python",
   "nbconvert_exporter": "python",
   "pygments_lexer": "ipython3",
   "version": "3.9.18"
  },
  "orig_nbformat": 4
 },
 "nbformat": 4,
 "nbformat_minor": 2
}
