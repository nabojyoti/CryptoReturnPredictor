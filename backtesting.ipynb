{
 "cells": [
  {
   "cell_type": "code",
   "execution_count": 1,
   "metadata": {},
   "outputs": [],
   "source": [
    "import pandas as pd\n",
    "import os\n",
    "from modules.backtest import single_crypto_backtest"
   ]
  },
  {
   "cell_type": "code",
   "execution_count": 2,
   "metadata": {},
   "outputs": [],
   "source": [
    "train_start, train_end = '2021-01-02 00:00:00', '2021-09-30 00:00:00',\n",
    "test_start, test_end = '2021-10-01 00:00:00', '2021-12-29 00:00:00'\n",
    "\n",
    "file_names = ['predictions_15mins', 'predictions_30mins', 'predictions_1hour','predictions_1day', 'predictions_30days']"
   ]
  },
  {
   "cell_type": "code",
   "execution_count": 3,
   "metadata": {},
   "outputs": [
    {
     "name": "stdout",
     "output_type": "stream",
     "text": [
      "final_portfolio_value at 15mins : 3769.919999998222\n",
      "final_portfolio_value at 30mins : 2125.5200000000477\n",
      "final_portfolio_value at 1hour : 2694.640000000215\n",
      "final_portfolio_value at 1day : 15402.500000000507\n",
      "final_portfolio_value at 30days : 343281.6200000002\n"
     ]
    }
   ],
   "source": [
    "intervals = [15, 30, 60, 60*24, 60*24*30]\n",
    "count = 0\n",
    "backtest_result_folder = 'backtest_result'\n",
    "for file_name in file_names:\n",
    "    interval = file_name.split('_')[1]\n",
    "    df = pd.read_csv(f'model_predictions/{file_name}.csv')\n",
    "    df['signal'] =  df['prediction'].apply(lambda x: 1 if x > 0 else 0)\n",
    "    df = df[['datetime','close', 'signal']]\n",
    "    df['datetime'] = pd.to_datetime(df['datetime'])  # Convert 'datetime' column to datetime format\n",
    "    df.set_index('datetime', inplace=True)  # Set 'datetime' as the index\n",
    "\n",
    "    test_df = df.loc[test_start:test_end]\n",
    "    final_portfolio_value, portfolio_df = single_crypto_backtest(test_df, rebalance_interval_minutes = intervals[0])\n",
    "    print(f\"final_portfolio_value at {interval} : {final_portfolio_value}\", )\n",
    "\n",
    "    # Check if the folder exists, and create it if it doesn't\n",
    "    if not os.path.exists(backtest_result_folder):\n",
    "        os.makedirs(backtest_result_folder)\n",
    "\n",
    "    backtest_file_path = os.path.join(backtest_result_folder, f'backtest_{interval}.csv')\n",
    "    portfolio_df.to_csv(backtest_file_path, index=False)\n",
    "\n",
    "    count += 1"
   ]
  }
 ],
 "metadata": {
  "kernelspec": {
   "display_name": "Python 3",
   "language": "python",
   "name": "python3"
  },
  "language_info": {
   "codemirror_mode": {
    "name": "ipython",
    "version": 3
   },
   "file_extension": ".py",
   "mimetype": "text/x-python",
   "name": "python",
   "nbconvert_exporter": "python",
   "pygments_lexer": "ipython3",
   "version": "3.9.18"
  },
  "orig_nbformat": 4
 },
 "nbformat": 4,
 "nbformat_minor": 2
}
